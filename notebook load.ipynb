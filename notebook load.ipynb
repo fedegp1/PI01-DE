{
 "cells": [
  {
   "cell_type": "code",
   "execution_count": 29,
   "metadata": {},
   "outputs": [],
   "source": [
    "# -- librerias --\n",
    "import os\n",
    "import mysql.connector as mysql\n",
    "\n",
    "# -- var globales --\n",
    "ruta = 'C:/files/PI/Out/' #ruta donde se encuentran los archivos transformados\n",
    "ruta_preq = 'C:/files/PI/' #ruta donde se ubica la prequery\n",
    "\n",
    "# me conecto a la base de datos\n",
    "db = mysql.connect(\n",
    "    host = '127.0.0.1',\n",
    "    user = 'root',\n",
    "    passwd = '0000',\n",
    ")\n",
    "cursor = db.cursor() #instancio el cursor\n",
    "\n",
    "# abro el prequery para hacer el LOAD almacenado en un archivo .txt llamado load_data\n",
    "# llamo prequery al query de carga, pero al que le falta colocarle el nombre del archivo input.\n",
    "archivo = open(str(ruta_preq)+'load_data.txt')\n",
    "pre_query=archivo.read() \n",
    "archivo.close()\n",
    "\n",
    "\n",
    "# --- PROGRAMA LOAD \n",
    "# en esta parte se hace la carga de los archivos y se quitan de la carpeta una vez cargados\n",
    "\n",
    "cont_dir_Out = os.listdir(ruta) #obtengo el cont. del directorio en una lista\n",
    "cursor.execute('USE pi01') # uso la bd\n",
    "\n",
    "\n",
    "# para todos los archivos en el directorio efectúa la carga\n",
    "for i,j in enumerate(cont_dir_Out):\n",
    "    query = pre_query.replace('NOMBRE_DEL_ARCHIVO',str(ruta)+str(cont_dir_Out[i])) #completo el prequery y dejo el query armado\n",
    "    cursor.execute(query) #ejecuto el query de load\n",
    "    db.commit() #hago commit de los cambios\n",
    "    os.remove(str(ruta)+str(cont_dir_Out[i])) #elimino el archivo para que no se repita la carga en la prox ejecucion del script\n",
    "\n"
   ]
  }
 ],
 "metadata": {
  "kernelspec": {
   "display_name": "Python 3.10.6 64-bit",
   "language": "python",
   "name": "python3"
  },
  "language_info": {
   "codemirror_mode": {
    "name": "ipython",
    "version": 3
   },
   "file_extension": ".py",
   "mimetype": "text/x-python",
   "name": "python",
   "nbconvert_exporter": "python",
   "pygments_lexer": "ipython3",
   "version": "3.10.6"
  },
  "orig_nbformat": 4,
  "vscode": {
   "interpreter": {
    "hash": "23dc6115c685ef902bd6c2b31d4ebe483dd4987a646bfcdbb0e0f7bcb4f7e7e8"
   }
  }
 },
 "nbformat": 4,
 "nbformat_minor": 2
}
