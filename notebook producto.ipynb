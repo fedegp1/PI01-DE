{
 "cells": [
  {
   "cell_type": "code",
   "execution_count": 37,
   "metadata": {},
   "outputs": [],
   "source": [
    "import pandas as pd"
   ]
  },
  {
   "cell_type": "code",
   "execution_count": 38,
   "metadata": {},
   "outputs": [],
   "source": [
    "nombre_archivo = 'producto.parquet'\n",
    "# este nombre tiene que tomarse de la ejecución del script; para desarrollarlo lo hardcodeamos\n",
    "extension = nombre_archivo.split('.')[1]\n",
    "# guarda la extension del archivo\n",
    "ruta = './Datasets/'\n",
    "# harcodeamos ruta relativa"
   ]
  },
  {
   "cell_type": "code",
   "execution_count": 39,
   "metadata": {},
   "outputs": [],
   "source": [
    "dfprodu = pd.read_parquet(str(ruta)+str(nombre_archivo))"
   ]
  },
  {
   "cell_type": "code",
   "execution_count": 40,
   "metadata": {},
   "outputs": [
    {
     "data": {
      "text/html": [
       "<div>\n",
       "<style scoped>\n",
       "    .dataframe tbody tr th:only-of-type {\n",
       "        vertical-align: middle;\n",
       "    }\n",
       "\n",
       "    .dataframe tbody tr th {\n",
       "        vertical-align: top;\n",
       "    }\n",
       "\n",
       "    .dataframe thead th {\n",
       "        text-align: right;\n",
       "    }\n",
       "</style>\n",
       "<table border=\"1\" class=\"dataframe\">\n",
       "  <thead>\n",
       "    <tr style=\"text-align: right;\">\n",
       "      <th></th>\n",
       "      <th>id</th>\n",
       "      <th>marca</th>\n",
       "      <th>nombre</th>\n",
       "      <th>presentacion</th>\n",
       "      <th>categoria1</th>\n",
       "      <th>categoria2</th>\n",
       "      <th>categoria3</th>\n",
       "    </tr>\n",
       "  </thead>\n",
       "  <tbody>\n",
       "    <tr>\n",
       "      <th>0</th>\n",
       "      <td>0000000001663</td>\n",
       "      <td>LA ANÓNIMA</td>\n",
       "      <td>Radicheta Atada La Anonima 1 Un</td>\n",
       "      <td>1.0 un</td>\n",
       "      <td>None</td>\n",
       "      <td>None</td>\n",
       "      <td>None</td>\n",
       "    </tr>\n",
       "    <tr>\n",
       "      <th>1</th>\n",
       "      <td>0000000002288</td>\n",
       "      <td>LA ANÓNIMA</td>\n",
       "      <td>Perejil Atado La Anonima 1 Un</td>\n",
       "      <td>1.0 un</td>\n",
       "      <td>None</td>\n",
       "      <td>None</td>\n",
       "      <td>None</td>\n",
       "    </tr>\n",
       "    <tr>\n",
       "      <th>2</th>\n",
       "      <td>0000000205870</td>\n",
       "      <td>SIN MARCA</td>\n",
       "      <td>Ojo de Bife 1 Kg</td>\n",
       "      <td>1.0 kg</td>\n",
       "      <td>None</td>\n",
       "      <td>None</td>\n",
       "      <td>None</td>\n",
       "    </tr>\n",
       "    <tr>\n",
       "      <th>3</th>\n",
       "      <td>0000000205894</td>\n",
       "      <td>SIN MARCA</td>\n",
       "      <td>Milanesa de Peceto Novillito 1 Kg</td>\n",
       "      <td>1.0 kg</td>\n",
       "      <td>None</td>\n",
       "      <td>None</td>\n",
       "      <td>None</td>\n",
       "    </tr>\n",
       "    <tr>\n",
       "      <th>4</th>\n",
       "      <td>0000000205955</td>\n",
       "      <td>SIN MARCA</td>\n",
       "      <td>Chiquizuela Novillito 1 Kg</td>\n",
       "      <td>1.0 kg</td>\n",
       "      <td>None</td>\n",
       "      <td>None</td>\n",
       "      <td>None</td>\n",
       "    </tr>\n",
       "  </tbody>\n",
       "</table>\n",
       "</div>"
      ],
      "text/plain": [
       "              id       marca                             nombre presentacion  \\\n",
       "0  0000000001663  LA ANÓNIMA    Radicheta Atada La Anonima 1 Un       1.0 un   \n",
       "1  0000000002288  LA ANÓNIMA      Perejil Atado La Anonima 1 Un       1.0 un   \n",
       "2  0000000205870   SIN MARCA                   Ojo de Bife 1 Kg       1.0 kg   \n",
       "3  0000000205894   SIN MARCA  Milanesa de Peceto Novillito 1 Kg       1.0 kg   \n",
       "4  0000000205955   SIN MARCA         Chiquizuela Novillito 1 Kg       1.0 kg   \n",
       "\n",
       "  categoria1 categoria2 categoria3  \n",
       "0       None       None       None  \n",
       "1       None       None       None  \n",
       "2       None       None       None  \n",
       "3       None       None       None  \n",
       "4       None       None       None  "
      ]
     },
     "execution_count": 40,
     "metadata": {},
     "output_type": "execute_result"
    }
   ],
   "source": [
    "dfprodu.head()\n",
    "#primer preview"
   ]
  },
  {
   "cell_type": "code",
   "execution_count": 41,
   "metadata": {},
   "outputs": [
    {
     "data": {
      "text/plain": [
       "id              object\n",
       "marca           object\n",
       "nombre          object\n",
       "presentacion    object\n",
       "categoria1      object\n",
       "categoria2      object\n",
       "categoria3      object\n",
       "dtype: object"
      ]
     },
     "execution_count": 41,
     "metadata": {},
     "output_type": "execute_result"
    }
   ],
   "source": [
    "dfprodu.dtypes\n",
    "#comprobamos tipos de dato de cada col y vemos q no hay datos numericos"
   ]
  },
  {
   "cell_type": "code",
   "execution_count": 42,
   "metadata": {},
   "outputs": [
    {
     "data": {
      "text/html": [
       "<div>\n",
       "<style scoped>\n",
       "    .dataframe tbody tr th:only-of-type {\n",
       "        vertical-align: middle;\n",
       "    }\n",
       "\n",
       "    .dataframe tbody tr th {\n",
       "        vertical-align: top;\n",
       "    }\n",
       "\n",
       "    .dataframe thead th {\n",
       "        text-align: right;\n",
       "    }\n",
       "</style>\n",
       "<table border=\"1\" class=\"dataframe\">\n",
       "  <thead>\n",
       "    <tr style=\"text-align: right;\">\n",
       "      <th></th>\n",
       "      <th>id</th>\n",
       "      <th>marca</th>\n",
       "      <th>nombre</th>\n",
       "      <th>presentacion</th>\n",
       "      <th>categoria1</th>\n",
       "      <th>categoria2</th>\n",
       "      <th>categoria3</th>\n",
       "    </tr>\n",
       "  </thead>\n",
       "  <tbody>\n",
       "    <tr>\n",
       "      <th>count</th>\n",
       "      <td>72038</td>\n",
       "      <td>72036</td>\n",
       "      <td>72036</td>\n",
       "      <td>72036</td>\n",
       "      <td>4</td>\n",
       "      <td>4</td>\n",
       "      <td>4</td>\n",
       "    </tr>\n",
       "    <tr>\n",
       "      <th>unique</th>\n",
       "      <td>72038</td>\n",
       "      <td>5653</td>\n",
       "      <td>63896</td>\n",
       "      <td>1168</td>\n",
       "      <td>3</td>\n",
       "      <td>3</td>\n",
       "      <td>4</td>\n",
       "    </tr>\n",
       "    <tr>\n",
       "      <th>top</th>\n",
       "      <td>0000000001663</td>\n",
       "      <td>SIN MARCA</td>\n",
       "      <td>Mollejas 1 Kg</td>\n",
       "      <td>1.0 kg</td>\n",
       "      <td>Almacén</td>\n",
       "      <td>Aceites</td>\n",
       "      <td>Acondicionadores</td>\n",
       "    </tr>\n",
       "    <tr>\n",
       "      <th>freq</th>\n",
       "      <td>1</td>\n",
       "      <td>8649</td>\n",
       "      <td>26</td>\n",
       "      <td>12894</td>\n",
       "      <td>2</td>\n",
       "      <td>2</td>\n",
       "      <td>1</td>\n",
       "    </tr>\n",
       "  </tbody>\n",
       "</table>\n",
       "</div>"
      ],
      "text/plain": [
       "                   id      marca         nombre presentacion categoria1  \\\n",
       "count           72038      72036          72036        72036          4   \n",
       "unique          72038       5653          63896         1168          3   \n",
       "top     0000000001663  SIN MARCA  Mollejas 1 Kg       1.0 kg    Almacén   \n",
       "freq                1       8649             26        12894          2   \n",
       "\n",
       "       categoria2        categoria3  \n",
       "count           4                 4  \n",
       "unique          3                 4  \n",
       "top       Aceites  Acondicionadores  \n",
       "freq            2                 1  "
      ]
     },
     "execution_count": 42,
     "metadata": {},
     "output_type": "execute_result"
    }
   ],
   "source": [
    "dfprodu.describe()\n",
    "# entender un poco los datos preliminarmente\n",
    "# vemos que la columna id tiene todos valores unicos y no faltan datos\n",
    "# hay 2 faltantes o nulos en marca, nombre y presentacion\n",
    "# las columnas de categoria contienen solo 4 valores cada una, en mas de 72k registros. \n",
    "# estas ultimas no presentan ninguna utilidad para este análisis. Las vamos a descartar.\n",
    "# si más adelante se consigue la información y se quieren utilizar para algo, siempre será posible agregarlas."
   ]
  },
  {
   "cell_type": "code",
   "execution_count": 43,
   "metadata": {},
   "outputs": [
    {
     "data": {
      "text/plain": [
       "0        None\n",
       "1        None\n",
       "2        None\n",
       "3        None\n",
       "4        None\n",
       "         ... \n",
       "72033    None\n",
       "72034    None\n",
       "72035    None\n",
       "72036    None\n",
       "72037    None\n",
       "Name: categoria3, Length: 72038, dtype: object"
      ]
     },
     "execution_count": 43,
     "metadata": {},
     "output_type": "execute_result"
    }
   ],
   "source": [
    "dfprodu.pop('categoria1')\n",
    "dfprodu.pop('categoria2')\n",
    "dfprodu.pop('categoria3')\n",
    "# quitamos las 3 columnas de categoria"
   ]
  },
  {
   "cell_type": "code",
   "execution_count": 44,
   "metadata": {},
   "outputs": [
    {
     "data": {
      "text/html": [
       "<div>\n",
       "<style scoped>\n",
       "    .dataframe tbody tr th:only-of-type {\n",
       "        vertical-align: middle;\n",
       "    }\n",
       "\n",
       "    .dataframe tbody tr th {\n",
       "        vertical-align: top;\n",
       "    }\n",
       "\n",
       "    .dataframe thead th {\n",
       "        text-align: right;\n",
       "    }\n",
       "</style>\n",
       "<table border=\"1\" class=\"dataframe\">\n",
       "  <thead>\n",
       "    <tr style=\"text-align: right;\">\n",
       "      <th></th>\n",
       "      <th>id</th>\n",
       "      <th>marca</th>\n",
       "      <th>nombre</th>\n",
       "      <th>presentacion</th>\n",
       "    </tr>\n",
       "  </thead>\n",
       "  <tbody>\n",
       "    <tr>\n",
       "      <th>53619</th>\n",
       "      <td>7798024299045</td>\n",
       "      <td>None</td>\n",
       "      <td>None</td>\n",
       "      <td>None</td>\n",
       "    </tr>\n",
       "    <tr>\n",
       "      <th>55798</th>\n",
       "      <td>7798061190213</td>\n",
       "      <td>None</td>\n",
       "      <td>None</td>\n",
       "      <td>None</td>\n",
       "    </tr>\n",
       "  </tbody>\n",
       "</table>\n",
       "</div>"
      ],
      "text/plain": [
       "                  id marca nombre presentacion\n",
       "53619  7798024299045  None   None         None\n",
       "55798  7798061190213  None   None         None"
      ]
     },
     "execution_count": 44,
     "metadata": {},
     "output_type": "execute_result"
    }
   ],
   "source": [
    "#busco los registros sin info de marca, nombre o presentacion; para ver si a partir de los datos podempos inferir y completar el resto\n",
    "dfprodu[dfprodu['marca'].isnull()|dfprodu['nombre'].isnull()|dfprodu['presentacion'].isnull()]\n",
    "#observamos que son 2 los registros que están incompletos en las 3 columnas. \n",
    "#AL no aportar ningún tipo de información adicional, decidimos eliminar los registros."
   ]
  },
  {
   "cell_type": "code",
   "execution_count": 45,
   "metadata": {},
   "outputs": [],
   "source": [
    "#obtengo una lista con los indices de las filas a eliminar\n",
    "filas_a_eliminar=dfprodu[dfprodu['marca'].isnull()|dfprodu['nombre'].isnull()|dfprodu['presentacion'].isnull()].index.tolist()\n",
    "# y a continuación las elimino\n",
    "dfprodu.drop(filas_a_eliminar, inplace=True)"
   ]
  },
  {
   "cell_type": "code",
   "execution_count": 46,
   "metadata": {},
   "outputs": [],
   "source": [
    "# Analisis columna id\n",
    "# es la columna más importante para corregir dado que es el id de cada producto.\n",
    "# De acuerdo a la información provista que acompaña los datasets, esta serie debe tener 13 caracteres numéricos, y debiera corresponder al cod EAN del producto \n",
    "# debo verificar entonces que todos los registros esten compuestos de 13 caracteres numéricos."
   ]
  },
  {
   "cell_type": "code",
   "execution_count": 47,
   "metadata": {},
   "outputs": [],
   "source": [
    "# verifico cantidad de caracteres\n",
    "# creo una columna 'cant' que indique la cantidad de caracteres\n",
    "dfprodu['cant']=dfprodu['id'].apply(lambda x: len(str(x)))"
   ]
  },
  {
   "cell_type": "code",
   "execution_count": 48,
   "metadata": {},
   "outputs": [
    {
     "data": {
      "text/plain": [
       "array([13, 17, 18], dtype=int64)"
      ]
     },
     "execution_count": 48,
     "metadata": {},
     "output_type": "execute_result"
    }
   ],
   "source": [
    "#observo que hay registros con 13, 17 y 18 caracteres\n",
    "dfprodu['cant'].unique()"
   ]
  },
  {
   "cell_type": "code",
   "execution_count": 49,
   "metadata": {},
   "outputs": [
    {
     "data": {
      "text/html": [
       "<div>\n",
       "<style scoped>\n",
       "    .dataframe tbody tr th:only-of-type {\n",
       "        vertical-align: middle;\n",
       "    }\n",
       "\n",
       "    .dataframe tbody tr th {\n",
       "        vertical-align: top;\n",
       "    }\n",
       "\n",
       "    .dataframe thead th {\n",
       "        text-align: right;\n",
       "    }\n",
       "</style>\n",
       "<table border=\"1\" class=\"dataframe\">\n",
       "  <thead>\n",
       "    <tr style=\"text-align: right;\">\n",
       "      <th></th>\n",
       "      <th>id</th>\n",
       "      <th>marca</th>\n",
       "      <th>nombre</th>\n",
       "      <th>presentacion</th>\n",
       "      <th>cant</th>\n",
       "    </tr>\n",
       "  </thead>\n",
       "  <tbody>\n",
       "    <tr>\n",
       "      <th>2287</th>\n",
       "      <td>10-1-2300006000003</td>\n",
       "      <td>MILKAUT</td>\n",
       "      <td>Queso Sardo Milkaut 1 Kg</td>\n",
       "      <td>1.0 kg</td>\n",
       "      <td>18</td>\n",
       "    </tr>\n",
       "    <tr>\n",
       "      <th>2288</th>\n",
       "      <td>10-1-2300049000008</td>\n",
       "      <td>SIN MARCA</td>\n",
       "      <td>Zapallo Ondeone 1 Kg</td>\n",
       "      <td>1.0 kg</td>\n",
       "      <td>18</td>\n",
       "    </tr>\n",
       "    <tr>\n",
       "      <th>2289</th>\n",
       "      <td>10-1-2300073000005</td>\n",
       "      <td>SIN MARCA</td>\n",
       "      <td>Zapallo Kuki 1 Kg</td>\n",
       "      <td>1.0 kg</td>\n",
       "      <td>18</td>\n",
       "    </tr>\n",
       "    <tr>\n",
       "      <th>2290</th>\n",
       "      <td>10-1-2300075000003</td>\n",
       "      <td>SIN MARCA</td>\n",
       "      <td>Zapallo Tasty 1 Kg</td>\n",
       "      <td>1.0 kg</td>\n",
       "      <td>18</td>\n",
       "    </tr>\n",
       "    <tr>\n",
       "      <th>2291</th>\n",
       "      <td>10-1-2300160000000</td>\n",
       "      <td>SIN MARCA</td>\n",
       "      <td>Arroz Azafranado 1 Kg</td>\n",
       "      <td>1.0 kg</td>\n",
       "      <td>18</td>\n",
       "    </tr>\n",
       "  </tbody>\n",
       "</table>\n",
       "</div>"
      ],
      "text/plain": [
       "                      id      marca                    nombre presentacion  \\\n",
       "2287  10-1-2300006000003    MILKAUT  Queso Sardo Milkaut 1 Kg       1.0 kg   \n",
       "2288  10-1-2300049000008  SIN MARCA      Zapallo Ondeone 1 Kg       1.0 kg   \n",
       "2289  10-1-2300073000005  SIN MARCA         Zapallo Kuki 1 Kg       1.0 kg   \n",
       "2290  10-1-2300075000003  SIN MARCA        Zapallo Tasty 1 Kg       1.0 kg   \n",
       "2291  10-1-2300160000000  SIN MARCA     Arroz Azafranado 1 Kg       1.0 kg   \n",
       "\n",
       "      cant  \n",
       "2287    18  \n",
       "2288    18  \n",
       "2289    18  \n",
       "2290    18  \n",
       "2291    18  "
      ]
     },
     "execution_count": 49,
     "metadata": {},
     "output_type": "execute_result"
    }
   ],
   "source": [
    "# observo cómo son esos registros 'erroneos'; y veo que tienen una codificación que no sirve\n",
    "dfprodu[dfprodu['cant']==18].head()"
   ]
  },
  {
   "cell_type": "code",
   "execution_count": 50,
   "metadata": {},
   "outputs": [],
   "source": [
    "# me quedo con los ultimos 13 caracteres que son los que contienen la info necesaria para ese campo\n",
    "dfprodu['id2']=dfprodu['id'].apply(lambda x: x[-13:])"
   ]
  },
  {
   "cell_type": "code",
   "execution_count": 51,
   "metadata": {},
   "outputs": [],
   "source": [
    "# reviso que no haya caracteres no numericos en la nueva columna usando RegEx\n",
    "import re\n"
   ]
  },
  {
   "cell_type": "code",
   "execution_count": 52,
   "metadata": {},
   "outputs": [],
   "source": [
    "dfprodu['caractid2']=dfprodu['id2'].apply(lambda x: re.findall('\\D',x))"
   ]
  },
  {
   "cell_type": "code",
   "execution_count": 53,
   "metadata": {},
   "outputs": [
    {
     "data": {
      "text/html": [
       "<div>\n",
       "<style scoped>\n",
       "    .dataframe tbody tr th:only-of-type {\n",
       "        vertical-align: middle;\n",
       "    }\n",
       "\n",
       "    .dataframe tbody tr th {\n",
       "        vertical-align: top;\n",
       "    }\n",
       "\n",
       "    .dataframe thead th {\n",
       "        text-align: right;\n",
       "    }\n",
       "</style>\n",
       "<table border=\"1\" class=\"dataframe\">\n",
       "  <thead>\n",
       "    <tr style=\"text-align: right;\">\n",
       "      <th></th>\n",
       "      <th>id</th>\n",
       "      <th>marca</th>\n",
       "      <th>nombre</th>\n",
       "      <th>presentacion</th>\n",
       "      <th>cant</th>\n",
       "      <th>id2</th>\n",
       "      <th>caractid2</th>\n",
       "    </tr>\n",
       "  </thead>\n",
       "  <tbody>\n",
       "    <tr>\n",
       "      <th>0</th>\n",
       "      <td>0000000001663</td>\n",
       "      <td>LA ANÓNIMA</td>\n",
       "      <td>Radicheta Atada La Anonima 1 Un</td>\n",
       "      <td>1.0 un</td>\n",
       "      <td>13</td>\n",
       "      <td>0000000001663</td>\n",
       "      <td>[]</td>\n",
       "    </tr>\n",
       "    <tr>\n",
       "      <th>1</th>\n",
       "      <td>0000000002288</td>\n",
       "      <td>LA ANÓNIMA</td>\n",
       "      <td>Perejil Atado La Anonima 1 Un</td>\n",
       "      <td>1.0 un</td>\n",
       "      <td>13</td>\n",
       "      <td>0000000002288</td>\n",
       "      <td>[]</td>\n",
       "    </tr>\n",
       "    <tr>\n",
       "      <th>2</th>\n",
       "      <td>0000000205870</td>\n",
       "      <td>SIN MARCA</td>\n",
       "      <td>Ojo de Bife 1 Kg</td>\n",
       "      <td>1.0 kg</td>\n",
       "      <td>13</td>\n",
       "      <td>0000000205870</td>\n",
       "      <td>[]</td>\n",
       "    </tr>\n",
       "    <tr>\n",
       "      <th>3</th>\n",
       "      <td>0000000205894</td>\n",
       "      <td>SIN MARCA</td>\n",
       "      <td>Milanesa de Peceto Novillito 1 Kg</td>\n",
       "      <td>1.0 kg</td>\n",
       "      <td>13</td>\n",
       "      <td>0000000205894</td>\n",
       "      <td>[]</td>\n",
       "    </tr>\n",
       "    <tr>\n",
       "      <th>4</th>\n",
       "      <td>0000000205955</td>\n",
       "      <td>SIN MARCA</td>\n",
       "      <td>Chiquizuela Novillito 1 Kg</td>\n",
       "      <td>1.0 kg</td>\n",
       "      <td>13</td>\n",
       "      <td>0000000205955</td>\n",
       "      <td>[]</td>\n",
       "    </tr>\n",
       "  </tbody>\n",
       "</table>\n",
       "</div>"
      ],
      "text/plain": [
       "              id       marca                             nombre presentacion  \\\n",
       "0  0000000001663  LA ANÓNIMA    Radicheta Atada La Anonima 1 Un       1.0 un   \n",
       "1  0000000002288  LA ANÓNIMA      Perejil Atado La Anonima 1 Un       1.0 un   \n",
       "2  0000000205870   SIN MARCA                   Ojo de Bife 1 Kg       1.0 kg   \n",
       "3  0000000205894   SIN MARCA  Milanesa de Peceto Novillito 1 Kg       1.0 kg   \n",
       "4  0000000205955   SIN MARCA         Chiquizuela Novillito 1 Kg       1.0 kg   \n",
       "\n",
       "   cant            id2 caractid2  \n",
       "0    13  0000000001663        []  \n",
       "1    13  0000000002288        []  \n",
       "2    13  0000000205870        []  \n",
       "3    13  0000000205894        []  \n",
       "4    13  0000000205955        []  "
      ]
     },
     "execution_count": 53,
     "metadata": {},
     "output_type": "execute_result"
    }
   ],
   "source": [
    "dfprodu.head()\n",
    "#voy observando que el campo caractid2 es una lista vacía"
   ]
  },
  {
   "cell_type": "code",
   "execution_count": 54,
   "metadata": {},
   "outputs": [
    {
     "data": {
      "text/plain": [
       "0        13\n",
       "1        13\n",
       "2        13\n",
       "3        13\n",
       "4        13\n",
       "         ..\n",
       "72033    13\n",
       "72034    13\n",
       "72035    13\n",
       "72036    13\n",
       "72037    13\n",
       "Name: cant, Length: 72036, dtype: int64"
      ]
     },
     "execution_count": 54,
     "metadata": {},
     "output_type": "execute_result"
    }
   ],
   "source": [
    "dfprodu.pop('cant')"
   ]
  },
  {
   "cell_type": "code",
   "execution_count": 55,
   "metadata": {},
   "outputs": [
    {
     "data": {
      "text/html": [
       "<div>\n",
       "<style scoped>\n",
       "    .dataframe tbody tr th:only-of-type {\n",
       "        vertical-align: middle;\n",
       "    }\n",
       "\n",
       "    .dataframe tbody tr th {\n",
       "        vertical-align: top;\n",
       "    }\n",
       "\n",
       "    .dataframe thead th {\n",
       "        text-align: right;\n",
       "    }\n",
       "</style>\n",
       "<table border=\"1\" class=\"dataframe\">\n",
       "  <thead>\n",
       "    <tr style=\"text-align: right;\">\n",
       "      <th></th>\n",
       "      <th>id</th>\n",
       "      <th>marca</th>\n",
       "      <th>nombre</th>\n",
       "      <th>presentacion</th>\n",
       "      <th>id2</th>\n",
       "      <th>caractid2</th>\n",
       "    </tr>\n",
       "  </thead>\n",
       "  <tbody>\n",
       "    <tr>\n",
       "      <th>count</th>\n",
       "      <td>72036</td>\n",
       "      <td>72036</td>\n",
       "      <td>72036</td>\n",
       "      <td>72036</td>\n",
       "      <td>72036</td>\n",
       "      <td>72036</td>\n",
       "    </tr>\n",
       "    <tr>\n",
       "      <th>unique</th>\n",
       "      <td>72036</td>\n",
       "      <td>5653</td>\n",
       "      <td>63896</td>\n",
       "      <td>1168</td>\n",
       "      <td>67941</td>\n",
       "      <td>1</td>\n",
       "    </tr>\n",
       "    <tr>\n",
       "      <th>top</th>\n",
       "      <td>0000000001663</td>\n",
       "      <td>SIN MARCA</td>\n",
       "      <td>Mollejas 1 Kg</td>\n",
       "      <td>1.0 kg</td>\n",
       "      <td>0000000080001</td>\n",
       "      <td>[]</td>\n",
       "    </tr>\n",
       "    <tr>\n",
       "      <th>freq</th>\n",
       "      <td>1</td>\n",
       "      <td>8649</td>\n",
       "      <td>26</td>\n",
       "      <td>12894</td>\n",
       "      <td>5</td>\n",
       "      <td>72036</td>\n",
       "    </tr>\n",
       "  </tbody>\n",
       "</table>\n",
       "</div>"
      ],
      "text/plain": [
       "                   id      marca         nombre presentacion            id2  \\\n",
       "count           72036      72036          72036        72036          72036   \n",
       "unique          72036       5653          63896         1168          67941   \n",
       "top     0000000001663  SIN MARCA  Mollejas 1 Kg       1.0 kg  0000000080001   \n",
       "freq                1       8649             26        12894              5   \n",
       "\n",
       "       caractid2  \n",
       "count      72036  \n",
       "unique         1  \n",
       "top           []  \n",
       "freq       72036  "
      ]
     },
     "execution_count": 55,
     "metadata": {},
     "output_type": "execute_result"
    }
   ],
   "source": [
    "dfprodu.describe()\n",
    "# veo que tiene todos valores duplicados id2. los debo quitar"
   ]
  },
  {
   "cell_type": "code",
   "execution_count": 56,
   "metadata": {},
   "outputs": [],
   "source": [
    "dfprodu['id']=dfprodu['id2']"
   ]
  },
  {
   "cell_type": "code",
   "execution_count": 57,
   "metadata": {},
   "outputs": [
    {
     "data": {
      "text/plain": [
       "0        []\n",
       "1        []\n",
       "2        []\n",
       "3        []\n",
       "4        []\n",
       "         ..\n",
       "72033    []\n",
       "72034    []\n",
       "72035    []\n",
       "72036    []\n",
       "72037    []\n",
       "Name: caractid2, Length: 72036, dtype: object"
      ]
     },
     "execution_count": 57,
     "metadata": {},
     "output_type": "execute_result"
    }
   ],
   "source": [
    "dfprodu.pop('id2')\n",
    "dfprodu.pop('caractid2')"
   ]
  },
  {
   "cell_type": "code",
   "execution_count": 58,
   "metadata": {},
   "outputs": [
    {
     "data": {
      "text/html": [
       "<div>\n",
       "<style scoped>\n",
       "    .dataframe tbody tr th:only-of-type {\n",
       "        vertical-align: middle;\n",
       "    }\n",
       "\n",
       "    .dataframe tbody tr th {\n",
       "        vertical-align: top;\n",
       "    }\n",
       "\n",
       "    .dataframe thead th {\n",
       "        text-align: right;\n",
       "    }\n",
       "</style>\n",
       "<table border=\"1\" class=\"dataframe\">\n",
       "  <thead>\n",
       "    <tr style=\"text-align: right;\">\n",
       "      <th></th>\n",
       "      <th>id</th>\n",
       "      <th>marca</th>\n",
       "      <th>nombre</th>\n",
       "      <th>presentacion</th>\n",
       "    </tr>\n",
       "  </thead>\n",
       "  <tbody>\n",
       "    <tr>\n",
       "      <th>0</th>\n",
       "      <td>0000000001663</td>\n",
       "      <td>LA ANÓNIMA</td>\n",
       "      <td>Radicheta Atada La Anonima 1 Un</td>\n",
       "      <td>1.0 un</td>\n",
       "    </tr>\n",
       "    <tr>\n",
       "      <th>1</th>\n",
       "      <td>0000000002288</td>\n",
       "      <td>LA ANÓNIMA</td>\n",
       "      <td>Perejil Atado La Anonima 1 Un</td>\n",
       "      <td>1.0 un</td>\n",
       "    </tr>\n",
       "    <tr>\n",
       "      <th>2</th>\n",
       "      <td>0000000205870</td>\n",
       "      <td>SIN MARCA</td>\n",
       "      <td>Ojo de Bife 1 Kg</td>\n",
       "      <td>1.0 kg</td>\n",
       "    </tr>\n",
       "    <tr>\n",
       "      <th>3</th>\n",
       "      <td>0000000205894</td>\n",
       "      <td>SIN MARCA</td>\n",
       "      <td>Milanesa de Peceto Novillito 1 Kg</td>\n",
       "      <td>1.0 kg</td>\n",
       "    </tr>\n",
       "    <tr>\n",
       "      <th>4</th>\n",
       "      <td>0000000205955</td>\n",
       "      <td>SIN MARCA</td>\n",
       "      <td>Chiquizuela Novillito 1 Kg</td>\n",
       "      <td>1.0 kg</td>\n",
       "    </tr>\n",
       "  </tbody>\n",
       "</table>\n",
       "</div>"
      ],
      "text/plain": [
       "              id       marca                             nombre presentacion\n",
       "0  0000000001663  LA ANÓNIMA    Radicheta Atada La Anonima 1 Un       1.0 un\n",
       "1  0000000002288  LA ANÓNIMA      Perejil Atado La Anonima 1 Un       1.0 un\n",
       "2  0000000205870   SIN MARCA                   Ojo de Bife 1 Kg       1.0 kg\n",
       "3  0000000205894   SIN MARCA  Milanesa de Peceto Novillito 1 Kg       1.0 kg\n",
       "4  0000000205955   SIN MARCA         Chiquizuela Novillito 1 Kg       1.0 kg"
      ]
     },
     "execution_count": 58,
     "metadata": {},
     "output_type": "execute_result"
    }
   ],
   "source": [
    "dfprodu.head()"
   ]
  },
  {
   "cell_type": "code",
   "execution_count": 59,
   "metadata": {},
   "outputs": [],
   "source": [
    "#quito duplicados\n",
    "dfprodu = dfprodu.drop_duplicates(['id'], keep='first')"
   ]
  },
  {
   "cell_type": "code",
   "execution_count": 60,
   "metadata": {},
   "outputs": [
    {
     "data": {
      "text/html": [
       "<div>\n",
       "<style scoped>\n",
       "    .dataframe tbody tr th:only-of-type {\n",
       "        vertical-align: middle;\n",
       "    }\n",
       "\n",
       "    .dataframe tbody tr th {\n",
       "        vertical-align: top;\n",
       "    }\n",
       "\n",
       "    .dataframe thead th {\n",
       "        text-align: right;\n",
       "    }\n",
       "</style>\n",
       "<table border=\"1\" class=\"dataframe\">\n",
       "  <thead>\n",
       "    <tr style=\"text-align: right;\">\n",
       "      <th></th>\n",
       "      <th>id</th>\n",
       "      <th>marca</th>\n",
       "      <th>nombre</th>\n",
       "      <th>presentacion</th>\n",
       "    </tr>\n",
       "  </thead>\n",
       "  <tbody>\n",
       "    <tr>\n",
       "      <th>count</th>\n",
       "      <td>67941</td>\n",
       "      <td>67941</td>\n",
       "      <td>67941</td>\n",
       "      <td>67941</td>\n",
       "    </tr>\n",
       "    <tr>\n",
       "      <th>unique</th>\n",
       "      <td>67941</td>\n",
       "      <td>5648</td>\n",
       "      <td>63744</td>\n",
       "      <td>1168</td>\n",
       "    </tr>\n",
       "    <tr>\n",
       "      <th>top</th>\n",
       "      <td>0000000001663</td>\n",
       "      <td>SIN MARCA</td>\n",
       "      <td>Cebolla 1 Kg</td>\n",
       "      <td>1.0 kg</td>\n",
       "    </tr>\n",
       "    <tr>\n",
       "      <th>freq</th>\n",
       "      <td>1</td>\n",
       "      <td>6455</td>\n",
       "      <td>13</td>\n",
       "      <td>9077</td>\n",
       "    </tr>\n",
       "  </tbody>\n",
       "</table>\n",
       "</div>"
      ],
      "text/plain": [
       "                   id      marca        nombre presentacion\n",
       "count           67941      67941         67941        67941\n",
       "unique          67941       5648         63744         1168\n",
       "top     0000000001663  SIN MARCA  Cebolla 1 Kg       1.0 kg\n",
       "freq                1       6455            13         9077"
      ]
     },
     "execution_count": 60,
     "metadata": {},
     "output_type": "execute_result"
    }
   ],
   "source": [
    "dfprodu.describe()"
   ]
  },
  {
   "cell_type": "code",
   "execution_count": 61,
   "metadata": {},
   "outputs": [
    {
     "data": {
      "text/html": [
       "<div>\n",
       "<style scoped>\n",
       "    .dataframe tbody tr th:only-of-type {\n",
       "        vertical-align: middle;\n",
       "    }\n",
       "\n",
       "    .dataframe tbody tr th {\n",
       "        vertical-align: top;\n",
       "    }\n",
       "\n",
       "    .dataframe thead th {\n",
       "        text-align: right;\n",
       "    }\n",
       "</style>\n",
       "<table border=\"1\" class=\"dataframe\">\n",
       "  <thead>\n",
       "    <tr style=\"text-align: right;\">\n",
       "      <th></th>\n",
       "      <th>id</th>\n",
       "      <th>marca</th>\n",
       "      <th>nombre</th>\n",
       "      <th>presentacion</th>\n",
       "    </tr>\n",
       "  </thead>\n",
       "  <tbody>\n",
       "    <tr>\n",
       "      <th>0</th>\n",
       "      <td>0000000001663</td>\n",
       "      <td>LA ANÓNIMA</td>\n",
       "      <td>Radicheta Atada La Anonima 1 Un</td>\n",
       "      <td>1.0 un</td>\n",
       "    </tr>\n",
       "    <tr>\n",
       "      <th>1</th>\n",
       "      <td>0000000002288</td>\n",
       "      <td>LA ANÓNIMA</td>\n",
       "      <td>Perejil Atado La Anonima 1 Un</td>\n",
       "      <td>1.0 un</td>\n",
       "    </tr>\n",
       "    <tr>\n",
       "      <th>2</th>\n",
       "      <td>0000000205870</td>\n",
       "      <td>SIN MARCA</td>\n",
       "      <td>Ojo de Bife 1 Kg</td>\n",
       "      <td>1.0 kg</td>\n",
       "    </tr>\n",
       "    <tr>\n",
       "      <th>3</th>\n",
       "      <td>0000000205894</td>\n",
       "      <td>SIN MARCA</td>\n",
       "      <td>Milanesa de Peceto Novillito 1 Kg</td>\n",
       "      <td>1.0 kg</td>\n",
       "    </tr>\n",
       "    <tr>\n",
       "      <th>4</th>\n",
       "      <td>0000000205955</td>\n",
       "      <td>SIN MARCA</td>\n",
       "      <td>Chiquizuela Novillito 1 Kg</td>\n",
       "      <td>1.0 kg</td>\n",
       "    </tr>\n",
       "    <tr>\n",
       "      <th>...</th>\n",
       "      <td>...</td>\n",
       "      <td>...</td>\n",
       "      <td>...</td>\n",
       "      <td>...</td>\n",
       "    </tr>\n",
       "    <tr>\n",
       "      <th>72033</th>\n",
       "      <td>9569753142128</td>\n",
       "      <td>DELI-SITAS</td>\n",
       "      <td>Milhojas Cobertura de Chocolate Blanco Deli-Si...</td>\n",
       "      <td>500.0 gr</td>\n",
       "    </tr>\n",
       "    <tr>\n",
       "      <th>72034</th>\n",
       "      <td>9795403001143</td>\n",
       "      <td>MAYO</td>\n",
       "      <td>Mini Pizzetas Mayo 12 Un</td>\n",
       "      <td>12.0 un</td>\n",
       "    </tr>\n",
       "    <tr>\n",
       "      <th>72035</th>\n",
       "      <td>9990385651922</td>\n",
       "      <td>DANA</td>\n",
       "      <td>Te Negro en Hebras Lata Dana 50 Gr</td>\n",
       "      <td>50.0 gr</td>\n",
       "    </tr>\n",
       "    <tr>\n",
       "      <th>72036</th>\n",
       "      <td>9990385651939</td>\n",
       "      <td>DANA</td>\n",
       "      <td>Te Verde en Hebras Lata Dana 50 Gr</td>\n",
       "      <td>50.0 gr</td>\n",
       "    </tr>\n",
       "    <tr>\n",
       "      <th>72037</th>\n",
       "      <td>9990385651946</td>\n",
       "      <td>DANA</td>\n",
       "      <td>Yerba Mate Aromatizada Lata Dana 150 Gr</td>\n",
       "      <td>150.0 gr</td>\n",
       "    </tr>\n",
       "  </tbody>\n",
       "</table>\n",
       "<p>67941 rows × 4 columns</p>\n",
       "</div>"
      ],
      "text/plain": [
       "                  id       marca  \\\n",
       "0      0000000001663  LA ANÓNIMA   \n",
       "1      0000000002288  LA ANÓNIMA   \n",
       "2      0000000205870   SIN MARCA   \n",
       "3      0000000205894   SIN MARCA   \n",
       "4      0000000205955   SIN MARCA   \n",
       "...              ...         ...   \n",
       "72033  9569753142128  DELI-SITAS   \n",
       "72034  9795403001143        MAYO   \n",
       "72035  9990385651922        DANA   \n",
       "72036  9990385651939        DANA   \n",
       "72037  9990385651946        DANA   \n",
       "\n",
       "                                                  nombre presentacion  \n",
       "0                        Radicheta Atada La Anonima 1 Un       1.0 un  \n",
       "1                          Perejil Atado La Anonima 1 Un       1.0 un  \n",
       "2                                       Ojo de Bife 1 Kg       1.0 kg  \n",
       "3                      Milanesa de Peceto Novillito 1 Kg       1.0 kg  \n",
       "4                             Chiquizuela Novillito 1 Kg       1.0 kg  \n",
       "...                                                  ...          ...  \n",
       "72033  Milhojas Cobertura de Chocolate Blanco Deli-Si...     500.0 gr  \n",
       "72034                           Mini Pizzetas Mayo 12 Un      12.0 un  \n",
       "72035                 Te Negro en Hebras Lata Dana 50 Gr      50.0 gr  \n",
       "72036                 Te Verde en Hebras Lata Dana 50 Gr      50.0 gr  \n",
       "72037            Yerba Mate Aromatizada Lata Dana 150 Gr     150.0 gr  \n",
       "\n",
       "[67941 rows x 4 columns]"
      ]
     },
     "execution_count": 61,
     "metadata": {},
     "output_type": "execute_result"
    }
   ],
   "source": [
    "def sacar_espacios(df):\n",
    "    '''\n",
    "    Quitar espacios vacíos de de ambos lados de las cols con strings.\n",
    "    '''\n",
    "    sacar_espacios = lambda x: x.strip() if isinstance(x, str) else x\n",
    "    return df.applymap(sacar_espacios)\n",
    "sacar_espacios(dfprodu)"
   ]
  },
  {
   "cell_type": "code",
   "execution_count": 62,
   "metadata": {},
   "outputs": [
    {
     "data": {
      "text/plain": [
       "count     67941\n",
       "unique      214\n",
       "top          Gr\n",
       "freq      27786\n",
       "Name: 1, dtype: object"
      ]
     },
     "execution_count": 62,
     "metadata": {},
     "output_type": "execute_result"
    }
   ],
   "source": [
    "dfprodu_check = dfprodu['nombre'].str.rsplit(' ', n=1, expand=True)\n",
    "#checkeo haciendo split en el ultimo espacio a ver si encuentro patrón para limpiar las descripciones de las unidades de medida.\n",
    "dfprodu_check[1].unique()\n",
    "#\n",
    "dfprodu_check[1].describe()"
   ]
  },
  {
   "cell_type": "code",
   "execution_count": 63,
   "metadata": {},
   "outputs": [
    {
     "data": {
      "text/html": [
       "<div>\n",
       "<style scoped>\n",
       "    .dataframe tbody tr th:only-of-type {\n",
       "        vertical-align: middle;\n",
       "    }\n",
       "\n",
       "    .dataframe tbody tr th {\n",
       "        vertical-align: top;\n",
       "    }\n",
       "\n",
       "    .dataframe thead th {\n",
       "        text-align: right;\n",
       "    }\n",
       "</style>\n",
       "<table border=\"1\" class=\"dataframe\">\n",
       "  <thead>\n",
       "    <tr style=\"text-align: right;\">\n",
       "      <th></th>\n",
       "      <th>0</th>\n",
       "      <th>1</th>\n",
       "    </tr>\n",
       "  </thead>\n",
       "  <tbody>\n",
       "    <tr>\n",
       "      <th>0</th>\n",
       "      <td>1.0</td>\n",
       "      <td>un</td>\n",
       "    </tr>\n",
       "    <tr>\n",
       "      <th>1</th>\n",
       "      <td>1.0</td>\n",
       "      <td>un</td>\n",
       "    </tr>\n",
       "    <tr>\n",
       "      <th>2</th>\n",
       "      <td>1.0</td>\n",
       "      <td>kg</td>\n",
       "    </tr>\n",
       "    <tr>\n",
       "      <th>3</th>\n",
       "      <td>1.0</td>\n",
       "      <td>kg</td>\n",
       "    </tr>\n",
       "    <tr>\n",
       "      <th>4</th>\n",
       "      <td>1.0</td>\n",
       "      <td>kg</td>\n",
       "    </tr>\n",
       "  </tbody>\n",
       "</table>\n",
       "</div>"
      ],
      "text/plain": [
       "     0   1\n",
       "0  1.0  un\n",
       "1  1.0  un\n",
       "2  1.0  kg\n",
       "3  1.0  kg\n",
       "4  1.0  kg"
      ]
     },
     "execution_count": 63,
     "metadata": {},
     "output_type": "execute_result"
    }
   ],
   "source": [
    "dfprodu_check = dfprodu['presentacion'].str.rsplit(' ', n=1, expand=True)\n",
    "#checkeo haciendo split en el espacio a ver si encuentro patrón para limpiar las descripciones de las presentaciones.\n",
    "dfprodu_check.head()\n"
   ]
  },
  {
   "cell_type": "code",
   "execution_count": 64,
   "metadata": {},
   "outputs": [
    {
     "data": {
      "text/plain": [
       "count    67941.000000\n",
       "mean       214.973389\n",
       "std        254.076491\n",
       "min          0.800000\n",
       "25%          1.500000\n",
       "50%        100.000000\n",
       "75%        375.000000\n",
       "max       1125.000000\n",
       "Name: 0, dtype: float64"
      ]
     },
     "execution_count": 64,
     "metadata": {},
     "output_type": "execute_result"
    }
   ],
   "source": [
    "dfprodu_check[0]=dfprodu_check[0].astype(float)\n",
    "dfprodu_check[0].describe()"
   ]
  },
  {
   "cell_type": "code",
   "execution_count": 65,
   "metadata": {},
   "outputs": [
    {
     "data": {
      "text/plain": [
       "count     67941\n",
       "unique        7\n",
       "top          gr\n",
       "freq      27688\n",
       "Name: 1, dtype: object"
      ]
     },
     "execution_count": 65,
     "metadata": {},
     "output_type": "execute_result"
    }
   ],
   "source": [
    "\n",
    "dfprodu_check[1].describe()"
   ]
  },
  {
   "cell_type": "code",
   "execution_count": 66,
   "metadata": {},
   "outputs": [
    {
     "data": {
      "text/plain": [
       "array(['un', 'kg', 'gr', 'ml', 'cc', 'lt', 'mt'], dtype=object)"
      ]
     },
     "execution_count": 66,
     "metadata": {},
     "output_type": "execute_result"
    }
   ],
   "source": [
    "dfprodu_check[1].unique()\n",
    "#observo que la col [0] tiene todas unidades de medida float, y la columna [1] tiene tipos de unidades de medida.\n",
    "# avanzo, y agrego esas columnas al dataframe original, en reemplazo de la columna 'presentacion' ya que a futuro me va a permitir\n",
    "# realizar mejores análisis. ej podré hacer queries sobre productos que se venden fraccionados o por unidad."
   ]
  },
  {
   "cell_type": "code",
   "execution_count": 67,
   "metadata": {},
   "outputs": [],
   "source": [
    "dfprodu['presentacion_cant'] = dfprodu_check[0]\n",
    "dfprodu['presentacion_UMB'] = dfprodu_check[1]\n",
    "# UM quiere decir unidad de medida base"
   ]
  },
  {
   "cell_type": "code",
   "execution_count": 68,
   "metadata": {},
   "outputs": [
    {
     "data": {
      "text/plain": [
       "0          1.0 un\n",
       "1          1.0 un\n",
       "2          1.0 kg\n",
       "3          1.0 kg\n",
       "4          1.0 kg\n",
       "           ...   \n",
       "72033    500.0 gr\n",
       "72034     12.0 un\n",
       "72035     50.0 gr\n",
       "72036     50.0 gr\n",
       "72037    150.0 gr\n",
       "Name: presentacion, Length: 67941, dtype: object"
      ]
     },
     "execution_count": 68,
     "metadata": {},
     "output_type": "execute_result"
    }
   ],
   "source": [
    "dfprodu.pop('presentacion')"
   ]
  },
  {
   "cell_type": "code",
   "execution_count": 69,
   "metadata": {},
   "outputs": [],
   "source": [
    "#por ultimo titulo las columnas marca, nombre y 'presentacion_UMB'\n",
    "def titular(df):\n",
    "    '''\n",
    "    Convierte a mayúscula la 1era letra de cada palabra en todas las cols.\n",
    "    '''\n",
    "    titular = lambda x: x.title() if isinstance(x, str) else x\n",
    "    return df.applymap(titular)\n",
    "dfprodu = titular(dfprodu)\n"
   ]
  },
  {
   "cell_type": "code",
   "execution_count": 70,
   "metadata": {},
   "outputs": [],
   "source": [
    "dfprodu.rename(columns={'id': 'Id_Producto'}, inplace=True)"
   ]
  },
  {
   "cell_type": "code",
   "execution_count": 71,
   "metadata": {},
   "outputs": [
    {
     "data": {
      "text/html": [
       "<div>\n",
       "<style scoped>\n",
       "    .dataframe tbody tr th:only-of-type {\n",
       "        vertical-align: middle;\n",
       "    }\n",
       "\n",
       "    .dataframe tbody tr th {\n",
       "        vertical-align: top;\n",
       "    }\n",
       "\n",
       "    .dataframe thead th {\n",
       "        text-align: right;\n",
       "    }\n",
       "</style>\n",
       "<table border=\"1\" class=\"dataframe\">\n",
       "  <thead>\n",
       "    <tr style=\"text-align: right;\">\n",
       "      <th></th>\n",
       "      <th>Id_Producto</th>\n",
       "      <th>marca</th>\n",
       "      <th>nombre</th>\n",
       "      <th>presentacion_cant</th>\n",
       "      <th>presentacion_UMB</th>\n",
       "    </tr>\n",
       "  </thead>\n",
       "  <tbody>\n",
       "    <tr>\n",
       "      <th>0</th>\n",
       "      <td>0000000001663</td>\n",
       "      <td>La Anónima</td>\n",
       "      <td>Radicheta Atada La Anonima 1 Un</td>\n",
       "      <td>1.0</td>\n",
       "      <td>Un</td>\n",
       "    </tr>\n",
       "    <tr>\n",
       "      <th>1</th>\n",
       "      <td>0000000002288</td>\n",
       "      <td>La Anónima</td>\n",
       "      <td>Perejil Atado La Anonima 1 Un</td>\n",
       "      <td>1.0</td>\n",
       "      <td>Un</td>\n",
       "    </tr>\n",
       "    <tr>\n",
       "      <th>2</th>\n",
       "      <td>0000000205870</td>\n",
       "      <td>Sin Marca</td>\n",
       "      <td>Ojo De Bife 1 Kg</td>\n",
       "      <td>1.0</td>\n",
       "      <td>Kg</td>\n",
       "    </tr>\n",
       "    <tr>\n",
       "      <th>3</th>\n",
       "      <td>0000000205894</td>\n",
       "      <td>Sin Marca</td>\n",
       "      <td>Milanesa De Peceto Novillito 1 Kg</td>\n",
       "      <td>1.0</td>\n",
       "      <td>Kg</td>\n",
       "    </tr>\n",
       "    <tr>\n",
       "      <th>4</th>\n",
       "      <td>0000000205955</td>\n",
       "      <td>Sin Marca</td>\n",
       "      <td>Chiquizuela Novillito 1 Kg</td>\n",
       "      <td>1.0</td>\n",
       "      <td>Kg</td>\n",
       "    </tr>\n",
       "    <tr>\n",
       "      <th>5</th>\n",
       "      <td>0000000205979</td>\n",
       "      <td>Sin Marca</td>\n",
       "      <td>Espinazo De Novillito 1 Kg</td>\n",
       "      <td>1.0</td>\n",
       "      <td>Kg</td>\n",
       "    </tr>\n",
       "    <tr>\n",
       "      <th>6</th>\n",
       "      <td>0000000206020</td>\n",
       "      <td>Sin Marca</td>\n",
       "      <td>Carnanza Comun De Novillo 1 Kg</td>\n",
       "      <td>1.0</td>\n",
       "      <td>Kg</td>\n",
       "    </tr>\n",
       "    <tr>\n",
       "      <th>7</th>\n",
       "      <td>0000000206044</td>\n",
       "      <td>Sin Marca</td>\n",
       "      <td>Falda Deshuesada Novillito Bandeja 1 Kg</td>\n",
       "      <td>1.0</td>\n",
       "      <td>Kg</td>\n",
       "    </tr>\n",
       "    <tr>\n",
       "      <th>8</th>\n",
       "      <td>0000000206051</td>\n",
       "      <td>Sin Marca</td>\n",
       "      <td>Carne Picada Comun 1 Kg</td>\n",
       "      <td>1.0</td>\n",
       "      <td>Kg</td>\n",
       "    </tr>\n",
       "    <tr>\n",
       "      <th>9</th>\n",
       "      <td>0000000206105</td>\n",
       "      <td>Sin Marca</td>\n",
       "      <td>EntrañA De Novillito 1 Kg</td>\n",
       "      <td>1.0</td>\n",
       "      <td>Kg</td>\n",
       "    </tr>\n",
       "  </tbody>\n",
       "</table>\n",
       "</div>"
      ],
      "text/plain": [
       "     Id_Producto       marca                                   nombre  \\\n",
       "0  0000000001663  La Anónima          Radicheta Atada La Anonima 1 Un   \n",
       "1  0000000002288  La Anónima            Perejil Atado La Anonima 1 Un   \n",
       "2  0000000205870   Sin Marca                         Ojo De Bife 1 Kg   \n",
       "3  0000000205894   Sin Marca        Milanesa De Peceto Novillito 1 Kg   \n",
       "4  0000000205955   Sin Marca               Chiquizuela Novillito 1 Kg   \n",
       "5  0000000205979   Sin Marca               Espinazo De Novillito 1 Kg   \n",
       "6  0000000206020   Sin Marca           Carnanza Comun De Novillo 1 Kg   \n",
       "7  0000000206044   Sin Marca  Falda Deshuesada Novillito Bandeja 1 Kg   \n",
       "8  0000000206051   Sin Marca                  Carne Picada Comun 1 Kg   \n",
       "9  0000000206105   Sin Marca               EntrañA De Novillito 1 Kg   \n",
       "\n",
       "   presentacion_cant presentacion_UMB  \n",
       "0                1.0               Un  \n",
       "1                1.0               Un  \n",
       "2                1.0               Kg  \n",
       "3                1.0               Kg  \n",
       "4                1.0               Kg  \n",
       "5                1.0               Kg  \n",
       "6                1.0               Kg  \n",
       "7                1.0               Kg  \n",
       "8                1.0               Kg  \n",
       "9                1.0               Kg  "
      ]
     },
     "execution_count": 71,
     "metadata": {},
     "output_type": "execute_result"
    }
   ],
   "source": [
    "dfprodu.head(10)"
   ]
  },
  {
   "cell_type": "code",
   "execution_count": 72,
   "metadata": {},
   "outputs": [],
   "source": [
    "#exportacion a csv de la tabla\n",
    "#from encodings import utf_8\n",
    "\n",
    "\n",
    "ruta_export = './Data_out/'\n",
    "nombre_archivo_out = 'producto_out.csv'\n",
    "dfprodu.to_csv(ruta_export+nombre_archivo_out, index=False, encoding='utf-8-sig')"
   ]
  }
 ],
 "metadata": {
  "kernelspec": {
   "display_name": "Python 3.10.6 64-bit",
   "language": "python",
   "name": "python3"
  },
  "language_info": {
   "codemirror_mode": {
    "name": "ipython",
    "version": 3
   },
   "file_extension": ".py",
   "mimetype": "text/x-python",
   "name": "python",
   "nbconvert_exporter": "python",
   "pygments_lexer": "ipython3",
   "version": "3.10.6"
  },
  "orig_nbformat": 4,
  "vscode": {
   "interpreter": {
    "hash": "23dc6115c685ef902bd6c2b31d4ebe483dd4987a646bfcdbb0e0f7bcb4f7e7e8"
   }
  }
 },
 "nbformat": 4,
 "nbformat_minor": 2
}
